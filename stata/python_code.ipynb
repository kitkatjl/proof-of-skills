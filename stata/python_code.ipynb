{
 "cells": [
  {
   "cell_type": "code",
   "execution_count": 3,
   "id": "a5d797db",
   "metadata": {},
   "outputs": [],
   "source": []
  },
  {
   "cell_type": "code",
   "execution_count": 19,
   "id": "95a854a1",
   "metadata": {
    "scrolled": true
   },
   "outputs": [
    {
     "name": "stdout",
     "output_type": "stream",
     "text": [
      "['the', 'coding', 'course']\n",
      "I\n",
      "liked\n",
      "the\n",
      "coding\n",
      "course\n"
     ]
    }
   ],
   "source": [
    "#Learning outrcome: Use Python “lists” and “dictionaries” appropriately. Demonstrate one of the two.\n",
    "word_list=['I','liked', 'the', 'coding', 'course'] \n",
    "print(word_list[2:5])\n",
    "#Learning outrcome: Break up work into smaller components using Python functions.\n",
    "def dariasfunction():\n",
    "    #Learning outrcome: Automate repeating tasks using Python “for” loops.\n",
    "   for i in word_list:\n",
    "    print (i)\n",
    "dariasfunction()"
   ]
  },
  {
   "cell_type": "code",
   "execution_count": null,
   "id": "8b1a5cf6",
   "metadata": {},
   "outputs": [],
   "source": []
  }
 ],
 "metadata": {
  "kernelspec": {
   "display_name": "Python 3 (ipykernel)",
   "language": "python",
   "name": "python3"
  },
  "language_info": {
   "codemirror_mode": {
    "name": "ipython",
    "version": 3
   },
   "file_extension": ".py",
   "mimetype": "text/x-python",
   "name": "python",
   "nbconvert_exporter": "python",
   "pygments_lexer": "ipython3",
   "version": "3.9.12"
  }
 },
 "nbformat": 4,
 "nbformat_minor": 5
}
