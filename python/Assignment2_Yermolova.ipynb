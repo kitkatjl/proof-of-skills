{
 "cells": [
  {
   "cell_type": "markdown",
   "id": "a26072a4",
   "metadata": {},
   "source": [
    "# Assignment 2"
   ]
  },
  {
   "cell_type": "markdown",
   "id": "bbe862b5",
   "metadata": {},
   "source": [
    "**Due by November 6, 2022, 23:59:59.**\n",
    "\n",
    "Rename the notebook (.ipynb file) to \"Assignment2_firstname_lastname\". Send to rubing.shen@sciencespo.fr"
   ]
  },
  {
   "cell_type": "markdown",
   "id": "9299e1d7",
   "metadata": {},
   "source": [
    "## Olympic Games Data Analysis (1896-2016) "
   ]
  },
  {
   "cell_type": "markdown",
   "id": "3fadbed2",
   "metadata": {},
   "source": [
    "In this exercise, you will analyze a historical dataset on the modern Olympic Games, including all the Games from Athens 1896 to Rio 2016. \n",
    "\n",
    "The file `athlete_events.csv` contains 271116 rows and 15 columns. Each row corresponds to an individual athlete competing in an individual Olympic event (athlete-events). The columns are:\n",
    "\n",
    "1. ID: Unique number for each athlete\n",
    "2. Name: Athlete's name\n",
    "3. Sex: M or F\n",
    "4. Age: Integer\n",
    "5. Height: In centimeters\n",
    "6. Weight: In kilograms\n",
    "7. Team: Team name (with today's country names)\n",
    "8. NOC: National Olympic Committee 3-letter code\n",
    "9. Games: Year and season\n",
    "10. Year: Integer\n",
    "11. Season: Summer or Winter\n",
    "12. City: Host city\n",
    "13. Sport: Sport\n",
    "14. Event: Event\n",
    "15. Medal: Gold, Silver, Bronze, or NA"
   ]
  },
  {
   "cell_type": "code",
   "execution_count": 42,
   "id": "c1e18c47",
   "metadata": {},
   "outputs": [],
   "source": [
    "import pandas as pd"
   ]
  },
  {
   "cell_type": "code",
   "execution_count": 43,
   "id": "2c3e379f",
   "metadata": {},
   "outputs": [
    {
     "data": {
      "text/html": [
       "<div>\n",
       "<style scoped>\n",
       "    .dataframe tbody tr th:only-of-type {\n",
       "        vertical-align: middle;\n",
       "    }\n",
       "\n",
       "    .dataframe tbody tr th {\n",
       "        vertical-align: top;\n",
       "    }\n",
       "\n",
       "    .dataframe thead th {\n",
       "        text-align: right;\n",
       "    }\n",
       "</style>\n",
       "<table border=\"1\" class=\"dataframe\">\n",
       "  <thead>\n",
       "    <tr style=\"text-align: right;\">\n",
       "      <th></th>\n",
       "      <th>ID</th>\n",
       "      <th>Name</th>\n",
       "      <th>Sex</th>\n",
       "      <th>Age</th>\n",
       "      <th>Height</th>\n",
       "      <th>Weight</th>\n",
       "      <th>Team</th>\n",
       "      <th>NOC</th>\n",
       "      <th>Games</th>\n",
       "      <th>Year</th>\n",
       "      <th>Season</th>\n",
       "      <th>City</th>\n",
       "      <th>Sport</th>\n",
       "      <th>Event</th>\n",
       "      <th>Medal</th>\n",
       "    </tr>\n",
       "  </thead>\n",
       "  <tbody>\n",
       "    <tr>\n",
       "      <th>0</th>\n",
       "      <td>1</td>\n",
       "      <td>A Dijiang</td>\n",
       "      <td>M</td>\n",
       "      <td>24.0</td>\n",
       "      <td>180.0</td>\n",
       "      <td>80.0</td>\n",
       "      <td>China</td>\n",
       "      <td>CHN</td>\n",
       "      <td>1992 Summer</td>\n",
       "      <td>1992</td>\n",
       "      <td>Summer</td>\n",
       "      <td>Barcelona</td>\n",
       "      <td>Basketball</td>\n",
       "      <td>Basketball Men's Basketball</td>\n",
       "      <td>NaN</td>\n",
       "    </tr>\n",
       "    <tr>\n",
       "      <th>1</th>\n",
       "      <td>2</td>\n",
       "      <td>A Lamusi</td>\n",
       "      <td>M</td>\n",
       "      <td>23.0</td>\n",
       "      <td>170.0</td>\n",
       "      <td>60.0</td>\n",
       "      <td>China</td>\n",
       "      <td>CHN</td>\n",
       "      <td>2012 Summer</td>\n",
       "      <td>2012</td>\n",
       "      <td>Summer</td>\n",
       "      <td>London</td>\n",
       "      <td>Judo</td>\n",
       "      <td>Judo Men's Extra-Lightweight</td>\n",
       "      <td>NaN</td>\n",
       "    </tr>\n",
       "    <tr>\n",
       "      <th>2</th>\n",
       "      <td>3</td>\n",
       "      <td>Gunnar Nielsen Aaby</td>\n",
       "      <td>M</td>\n",
       "      <td>24.0</td>\n",
       "      <td>NaN</td>\n",
       "      <td>NaN</td>\n",
       "      <td>Denmark</td>\n",
       "      <td>DEN</td>\n",
       "      <td>1920 Summer</td>\n",
       "      <td>1920</td>\n",
       "      <td>Summer</td>\n",
       "      <td>Antwerpen</td>\n",
       "      <td>Football</td>\n",
       "      <td>Football Men's Football</td>\n",
       "      <td>NaN</td>\n",
       "    </tr>\n",
       "    <tr>\n",
       "      <th>3</th>\n",
       "      <td>4</td>\n",
       "      <td>Edgar Lindenau Aabye</td>\n",
       "      <td>M</td>\n",
       "      <td>34.0</td>\n",
       "      <td>NaN</td>\n",
       "      <td>NaN</td>\n",
       "      <td>Denmark</td>\n",
       "      <td>DEN</td>\n",
       "      <td>1900 Summer</td>\n",
       "      <td>1900</td>\n",
       "      <td>Summer</td>\n",
       "      <td>Paris</td>\n",
       "      <td>Tug-Of-War</td>\n",
       "      <td>Tug-Of-War Men's Tug-Of-War</td>\n",
       "      <td>Gold</td>\n",
       "    </tr>\n",
       "    <tr>\n",
       "      <th>4</th>\n",
       "      <td>5</td>\n",
       "      <td>Christine Jacoba Aaftink</td>\n",
       "      <td>F</td>\n",
       "      <td>21.0</td>\n",
       "      <td>185.0</td>\n",
       "      <td>82.0</td>\n",
       "      <td>Netherlands</td>\n",
       "      <td>NED</td>\n",
       "      <td>1988 Winter</td>\n",
       "      <td>1988</td>\n",
       "      <td>Winter</td>\n",
       "      <td>Calgary</td>\n",
       "      <td>Speed Skating</td>\n",
       "      <td>Speed Skating Women's 500 metres</td>\n",
       "      <td>NaN</td>\n",
       "    </tr>\n",
       "  </tbody>\n",
       "</table>\n",
       "</div>"
      ],
      "text/plain": [
       "   ID                      Name Sex   Age  Height  Weight         Team  NOC  \\\n",
       "0   1                 A Dijiang   M  24.0   180.0    80.0        China  CHN   \n",
       "1   2                  A Lamusi   M  23.0   170.0    60.0        China  CHN   \n",
       "2   3       Gunnar Nielsen Aaby   M  24.0     NaN     NaN      Denmark  DEN   \n",
       "3   4      Edgar Lindenau Aabye   M  34.0     NaN     NaN      Denmark  DEN   \n",
       "4   5  Christine Jacoba Aaftink   F  21.0   185.0    82.0  Netherlands  NED   \n",
       "\n",
       "         Games  Year  Season       City          Sport  \\\n",
       "0  1992 Summer  1992  Summer  Barcelona     Basketball   \n",
       "1  2012 Summer  2012  Summer     London           Judo   \n",
       "2  1920 Summer  1920  Summer  Antwerpen       Football   \n",
       "3  1900 Summer  1900  Summer      Paris     Tug-Of-War   \n",
       "4  1988 Winter  1988  Winter    Calgary  Speed Skating   \n",
       "\n",
       "                              Event Medal  \n",
       "0       Basketball Men's Basketball   NaN  \n",
       "1      Judo Men's Extra-Lightweight   NaN  \n",
       "2           Football Men's Football   NaN  \n",
       "3       Tug-Of-War Men's Tug-Of-War  Gold  \n",
       "4  Speed Skating Women's 500 metres   NaN  "
      ]
     },
     "execution_count": 43,
     "metadata": {},
     "output_type": "execute_result"
    }
   ],
   "source": [
    "df = pd.read_csv('./athlete_events.csv')\n",
    "df.head()"
   ]
  },
  {
   "cell_type": "markdown",
   "id": "e609382c",
   "metadata": {},
   "source": [
    "### Q.1 \n",
    "How many different athletes have participated in the Olympic Games from 1896 to 2016? How many male athletes? How many female athletes?"
   ]
  },
  {
   "cell_type": "code",
   "execution_count": 44,
   "id": "7443a07b",
   "metadata": {},
   "outputs": [
    {
     "name": "stdout",
     "output_type": "stream",
     "text": [
      "(134732,)\n",
      "M    100953\n",
      "F     33779\n",
      "Name: Sex, dtype: int64\n"
     ]
    }
   ],
   "source": [
    "unique_names= df['Name'].unique()\n",
    "print(unique_names.shape)\n",
    "unique_names= df.drop_duplicates(subset=['Name'])\n",
    "print(unique_names['Sex'].value_counts())\n",
    "\n",
    "# There were 134732 different athletes who ave participated in the Olympic Games from 1896 to 2016, out of which 100953 were male and 33779-female."
   ]
  },
  {
   "cell_type": "markdown",
   "id": "e76d6a0d",
   "metadata": {},
   "source": [
    "### Q.2\n",
    "What percentage of the participants in the Summer Olympics are women? And for the Winter Olympic Games? "
   ]
  },
  {
   "cell_type": "code",
   "execution_count": 45,
   "id": "3abb164d",
   "metadata": {},
   "outputs": [
    {
     "name": "stdout",
     "output_type": "stream",
     "text": [
      "M    163109\n",
      "F     59443\n",
      "Name: Sex, dtype: int64\n",
      "26.709712786225243% participants in Summer Olympic Games are women\n"
     ]
    }
   ],
   "source": [
    "summer_olympics=df.loc[df.Season=='Summer']\n",
    "print(summer_olympics['Sex'].value_counts())\n",
    "summer_proportion=100*(59443/(163109+59443))\n",
    "print(f'{summer_proportion}% participants in Summer Olympic Games are women')"
   ]
  },
  {
   "cell_type": "code",
   "execution_count": 46,
   "id": "8768e60f",
   "metadata": {},
   "outputs": [
    {
     "name": "stdout",
     "output_type": "stream",
     "text": [
      "M    33485\n",
      "F    15079\n",
      "Name: Sex, dtype: int64\n",
      "31.04974878510831% of participants in Winter Olympic Games are women\n"
     ]
    }
   ],
   "source": [
    "winter_olympics=df.loc[df.Season=='Winter']\n",
    "print(winter_olympics['Sex'].value_counts())\n",
    "winter_proportion=100*(15079/(15079+33485))\n",
    "print(f'{winter_proportion}% of participants in Winter Olympic Games are women')"
   ]
  },
  {
   "cell_type": "markdown",
   "id": "117b9611",
   "metadata": {},
   "source": [
    "### Q.3\n",
    "Give the list of cities (without duplication) that have hosted the Olympic Games (summer or winter)."
   ]
  },
  {
   "cell_type": "code",
   "execution_count": 47,
   "id": "0b9aea0f",
   "metadata": {},
   "outputs": [
    {
     "name": "stdout",
     "output_type": "stream",
     "text": [
      "['Barcelona' 'London' 'Antwerpen' 'Paris' 'Calgary' 'Albertville'\n",
      " 'Lillehammer' 'Los Angeles' 'Salt Lake City' 'Helsinki' 'Lake Placid'\n",
      " 'Sydney' 'Atlanta' 'Stockholm' 'Sochi' 'Nagano' 'Torino' 'Beijing'\n",
      " 'Rio de Janeiro' 'Athina' 'Squaw Valley' 'Innsbruck' 'Sarajevo'\n",
      " 'Mexico City' 'Munich' 'Seoul' 'Berlin' 'Oslo' \"Cortina d'Ampezzo\"\n",
      " 'Melbourne' 'Roma' 'Amsterdam' 'Montreal' 'Moskva' 'Tokyo' 'Vancouver'\n",
      " 'Grenoble' 'Sapporo' 'Chamonix' 'St. Louis' 'Sankt Moritz'\n",
      " 'Garmisch-Partenkirchen']\n"
     ]
    }
   ],
   "source": [
    "unique_cities= df['City'].unique()\n",
    "print(unique_cities)"
   ]
  },
  {
   "cell_type": "markdown",
   "id": "f716bfc3",
   "metadata": {},
   "source": [
    "### Q.4 \n",
    "Which cities have hosted the Olympic Games at least twice?"
   ]
  },
  {
   "cell_type": "markdown",
   "id": "e945fc31",
   "metadata": {},
   "source": [
    "> **Hint**: Each row is an athletes but we would like to keep only one occurence for each Olympic game. The method `.drop_duplicates()` allows to do that by droping all redundant lines. Write your codes using the variable `year_city` thus defined. "
   ]
  },
  {
   "cell_type": "code",
   "execution_count": 48,
   "id": "cdfbd7e2",
   "metadata": {},
   "outputs": [
    {
     "data": {
      "text/plain": [
       "London          3\n",
       "Athina          3\n",
       "Innsbruck       2\n",
       "Sankt Moritz    2\n",
       "Paris           2\n",
       "Los Angeles     2\n",
       "Lake Placid     2\n",
       "Stockholm       2\n",
       "Name: City, dtype: int64"
      ]
     },
     "execution_count": 48,
     "metadata": {},
     "output_type": "execute_result"
    }
   ],
   "source": [
    "year_city = df[['Year','Season','City']].drop_duplicates()\n",
    "city_frequency=year_city['City'].value_counts()\n",
    "city_frequency[city_frequency >=2]"
   ]
  },
  {
   "cell_type": "markdown",
   "id": "05173d71",
   "metadata": {},
   "source": [
    "### Q.5 \n",
    "- How many gold, silver and bronze medals have been awarded in the history of the Olympic Games ? \n",
    "- How many gold, silver and bronze medals has the Team France won in the history of the Olympic Games ? "
   ]
  },
  {
   "cell_type": "code",
   "execution_count": 49,
   "id": "444dec57",
   "metadata": {},
   "outputs": [
    {
     "name": "stdout",
     "output_type": "stream",
     "text": [
      "Gold      13372\n",
      "Bronze    13295\n",
      "Silver    13116\n",
      "Name: Medal, dtype: int64\n",
      "There was a total of 13372 gold, 13295 silver and 13116 bronze medals\n",
      "Bronze    666\n",
      "Silver    610\n",
      "Gold      501\n",
      "Name: Medal, dtype: int64\n",
      "France won a total of 666 bronze, 610 silver and 501 gold medals\n"
     ]
    }
   ],
   "source": [
    "print(df['Medal'].value_counts())\n",
    "print('There was a total of 13372 gold, 13295 silver and 13116 bronze medals')\n",
    "france=df.loc[df.Team=='France']\n",
    "print(france['Medal'].value_counts())\n",
    "print('France won a total of 666 bronze, 610 silver and 501 gold medals')"
   ]
  },
  {
   "cell_type": "markdown",
   "id": "04b58c3e",
   "metadata": {},
   "source": [
    "### Q.6\n",
    "In total, how many times has a female athlete won the gold medal? How many times has a male athlete won the gold medal?"
   ]
  },
  {
   "cell_type": "code",
   "execution_count": 50,
   "id": "7a0bcc46",
   "metadata": {},
   "outputs": [
    {
     "name": "stdout",
     "output_type": "stream",
     "text": [
      "M    9625\n",
      "F    3747\n",
      "Name: Sex, dtype: int64\n",
      "Female athletes won 3747 total gold medals and male atheletes won 9625\n"
     ]
    }
   ],
   "source": [
    "gold=df.loc[df.Medal=='Gold']\n",
    "print(gold['Sex'].value_counts())\n",
    "print('Female athletes won 3747 total gold medals and male atheletes won 9625')"
   ]
  },
  {
   "cell_type": "markdown",
   "id": "fbedaee4",
   "metadata": {},
   "source": [
    "### Q.7\n",
    "How many French women athletes won the gold medal at the 2016 Summer Olympic Games? French male athletes?"
   ]
  },
  {
   "cell_type": "code",
   "execution_count": 51,
   "id": "e79c1dc2",
   "metadata": {},
   "outputs": [
    {
     "name": "stdout",
     "output_type": "stream",
     "text": [
      "M    16\n",
      "F     4\n",
      "Name: Sex, dtype: int64\n",
      "4 French women athletes won the gold medal at the 2016 Summer Olympic Games and 16 French male athletes\n"
     ]
    }
   ],
   "source": [
    "gold_french_summer_2016=df.loc[(df.Medal=='Gold')&(df.Team=='France')&(df.Season=='Summer')&(df.Year==2016)]\n",
    "#since we are interested in individual athletes and not the medal count, we have to get rid of the possibility that the same athlete won more than one medal\n",
    "gold_french_summer_2016_unique= gold_french_summer_2016.drop_duplicates(subset=['Name'])\n",
    "print(gold_french_summer_2016['Sex'].value_counts())\n",
    "print('4 French women athletes won the gold medal at the 2016 Summer Olympic Games and 16 French male athletes')"
   ]
  },
  {
   "cell_type": "markdown",
   "id": "52edc98d",
   "metadata": {},
   "source": [
    "### Q.8 \n",
    "- Give the top 5 athletes who have won the most gold medals, and their respective numbers of gold medals.  \n",
    "- Give the top 5 athletes who have won the most medals in total (gold, silver or bronze), and their respective numbers of medals.  "
   ]
  },
  {
   "cell_type": "code",
   "execution_count": 52,
   "id": "5fab5b58",
   "metadata": {},
   "outputs": [
    {
     "data": {
      "text/plain": [
       "Michael Fred Phelps, II           23\n",
       "Raymond Clarence \"Ray\" Ewry       10\n",
       "Mark Andrew Spitz                  9\n",
       "Frederick Carlton \"Carl\" Lewis     9\n",
       "Paavo Johannes Nurmi               9\n",
       "Name: Name, dtype: int64"
      ]
     },
     "execution_count": 52,
     "metadata": {},
     "output_type": "execute_result"
    }
   ],
   "source": [
    "gold=df.loc[df.Medal=='Gold']\n",
    "gold_by_name=gold['Name'].value_counts()\n",
    "gold_by_name.nlargest(5)"
   ]
  },
  {
   "cell_type": "code",
   "execution_count": 87,
   "id": "028631f1",
   "metadata": {},
   "outputs": [
    {
     "data": {
      "text/plain": [
       "Michael Fred Phelps, II               28\n",
       "Larysa Semenivna Latynina (Diriy-)    18\n",
       "Nikolay Yefimovich Andrianov          15\n",
       "Ole Einar Bjrndalen                   13\n",
       "Edoardo Mangiarotti                   13\n",
       "Name: Name, dtype: int64"
      ]
     },
     "execution_count": 87,
     "metadata": {},
     "output_type": "execute_result"
    }
   ],
   "source": [
    "new_df=df.dropna(subset=['Medal'])\n",
    "grouped=new_df['Name'].value_counts()\n",
    "grouped.nlargest(5)"
   ]
  },
  {
   "cell_type": "markdown",
   "id": "4745287a",
   "metadata": {},
   "source": [
    "### Q.9\n",
    "For the 2008 Summer Olympic Games, which team has the youngest average age? The oldest? "
   ]
  },
  {
   "cell_type": "code",
   "execution_count": 30,
   "id": "70d1af8a",
   "metadata": {},
   "outputs": [
    {
     "data": {
      "text/html": [
       "<div>\n",
       "<style scoped>\n",
       "    .dataframe tbody tr th:only-of-type {\n",
       "        vertical-align: middle;\n",
       "    }\n",
       "\n",
       "    .dataframe tbody tr th {\n",
       "        vertical-align: top;\n",
       "    }\n",
       "\n",
       "    .dataframe thead th {\n",
       "        text-align: right;\n",
       "    }\n",
       "</style>\n",
       "<table border=\"1\" class=\"dataframe\">\n",
       "  <thead>\n",
       "    <tr style=\"text-align: right;\">\n",
       "      <th></th>\n",
       "      <th>Age</th>\n",
       "    </tr>\n",
       "    <tr>\n",
       "      <th>Team</th>\n",
       "      <th></th>\n",
       "    </tr>\n",
       "  </thead>\n",
       "  <tbody>\n",
       "    <tr>\n",
       "      <th>Somalia</th>\n",
       "      <td>17.500000</td>\n",
       "    </tr>\n",
       "    <tr>\n",
       "      <th>Cambodia</th>\n",
       "      <td>18.000000</td>\n",
       "    </tr>\n",
       "    <tr>\n",
       "      <th>Laos</th>\n",
       "      <td>19.000000</td>\n",
       "    </tr>\n",
       "    <tr>\n",
       "      <th>Suriname</th>\n",
       "      <td>19.000000</td>\n",
       "    </tr>\n",
       "    <tr>\n",
       "      <th>Malawi</th>\n",
       "      <td>19.000000</td>\n",
       "    </tr>\n",
       "    <tr>\n",
       "      <th>...</th>\n",
       "      <td>...</td>\n",
       "    </tr>\n",
       "    <tr>\n",
       "      <th>Tonga</th>\n",
       "      <td>29.666667</td>\n",
       "    </tr>\n",
       "    <tr>\n",
       "      <th>Fiji</th>\n",
       "      <td>30.833333</td>\n",
       "    </tr>\n",
       "    <tr>\n",
       "      <th>Liechtenstein</th>\n",
       "      <td>31.500000</td>\n",
       "    </tr>\n",
       "    <tr>\n",
       "      <th>Boliva</th>\n",
       "      <td>32.428571</td>\n",
       "    </tr>\n",
       "    <tr>\n",
       "      <th>Bosnia and Herzegovina</th>\n",
       "      <td>32.428571</td>\n",
       "    </tr>\n",
       "  </tbody>\n",
       "</table>\n",
       "<p>201 rows × 1 columns</p>\n",
       "</div>"
      ],
      "text/plain": [
       "                              Age\n",
       "Team                             \n",
       "Somalia                 17.500000\n",
       "Cambodia                18.000000\n",
       "Laos                    19.000000\n",
       "Suriname                19.000000\n",
       "Malawi                  19.000000\n",
       "...                           ...\n",
       "Tonga                   29.666667\n",
       "Fiji                    30.833333\n",
       "Liechtenstein           31.500000\n",
       "Boliva                  32.428571\n",
       "Bosnia and Herzegovina  32.428571\n",
       "\n",
       "[201 rows x 1 columns]"
      ]
     },
     "execution_count": 30,
     "metadata": {},
     "output_type": "execute_result"
    }
   ],
   "source": [
    "summer_2008=df.loc[(df.Season=='Summer')&(df.Year==2008)]\n",
    "result=summer_2008[['Team','Age']].groupby('Team').mean()\n",
    "result.sort_values(by='Age')"
   ]
  },
  {
   "cell_type": "markdown",
   "id": "aefb6023",
   "metadata": {},
   "source": [
    "### Q.10\n",
    "On average, which sport has the tallest athletes? The smallest? The heaviest? The least heavy? "
   ]
  },
  {
   "cell_type": "code",
   "execution_count": 91,
   "id": "de7fff92",
   "metadata": {},
   "outputs": [
    {
     "name": "stdout",
     "output_type": "stream",
     "text": [
      "                               Height     Weight\n",
      "Sport                                           \n",
      "Gymnastics                 162.875641  56.913675\n",
      "Trampolining               166.563758  59.322148\n",
      "Diving                     166.662196  60.577000\n",
      "Rhythmic Gymnastics        167.795122  48.760976\n",
      "Weightlifting              167.822726  79.547651\n",
      "Figure Skating             168.148810  59.543651\n",
      "Synchronized Swimming      168.489988  55.856302\n",
      "Softball                   169.428571  67.471655\n",
      "Short Track Speed Skating  170.108199  64.310484\n",
      "Freestyle Skiing           170.940854  67.026835\n",
      "Table Tennis               171.253773  64.915036\n",
      "Wrestling                  172.389440  75.508578\n",
      "Boxing                     172.788475  65.243842\n",
      "Art Competitions           172.821429  74.607143\n",
      "Snowboarding               173.043290  69.527056\n",
      "Archery                    173.250531  70.010616\n",
      "Cross Country Skiing       173.261314  65.879496\n",
      "Hockey                     173.387899  69.164869\n",
      "Alpine Skiing              173.517666  72.084937\n",
      "Shooting                   173.526784  74.025551\n",
      "Triathlon                  173.640684  61.817490\n",
      "Rugby                      173.666667  77.533333\n",
      "Lacrosse                   174.000000  66.500000\n",
      "Golf                       174.046296  71.194444\n",
      "Biathlon                   174.052004  66.631419\n",
      "Speed Skating              174.096935  70.034620\n",
      "Judo                       174.157210  78.784131\n",
      "Curling                    174.168293  72.131707\n",
      "Badminton                  174.220264  68.171439\n",
      "Equestrianism              174.397101  67.803975\n",
      "Rugby Sevens               175.363636  79.006734\n",
      "Football                   175.387467  70.449139\n",
      "Cycling                    176.162425  70.068679\n",
      "Skeleton                   176.224138  74.166667\n",
      "Athletics                  176.259580  69.254974\n",
      "Ski Jumping                176.489837  65.079014\n",
      "Nordic Combined            176.519700  66.905722\n",
      "Luge                       176.655047  77.282498\n",
      "Taekwondo                  176.750000  68.088087\n",
      "Fencing                    177.298318  71.387538\n",
      "Modern Pentathlon          178.101507  70.279540\n",
      "Sailing                    178.263763  75.972062\n",
      "Canoeing                   178.552072  76.492072\n",
      "Swimming                   178.590072  70.588104\n",
      "Tennis                     178.915837  70.802291\n",
      "Ice Hockey                 178.923127  80.837737\n",
      "Motorboating               181.000000  77.000000\n",
      "Bobsleigh                  181.604261  89.153445\n",
      "Baseball                   182.599291  85.718085\n",
      "Tug-Of-War                 182.727273  91.636364\n",
      "Handball                   183.411094  81.497151\n",
      "Rowing                     184.262638  80.168142\n",
      "Water Polo                 185.028267  84.566446\n",
      "Beach Volleyball           186.202602  79.089219\n",
      "Volleyball                 186.978944  78.900214\n",
      "Basketball                 191.208980  85.782585\n",
      "Gymnastics on average has the shortest athletes, while basketball has the tallest\n"
     ]
    }
   ],
   "source": [
    "new_df=df.dropna(subset=['Height','Weight'])\n",
    "result=new_df[['Sport','Height','Weight']].groupby('Sport').mean()\n",
    "print(result.sort_values(by='Height'))\n",
    "print('Gymnastics on average has the shortest athletes, while basketball has the tallest')"
   ]
  },
  {
   "cell_type": "code",
   "execution_count": 92,
   "id": "e01eba98",
   "metadata": {},
   "outputs": [
    {
     "name": "stdout",
     "output_type": "stream",
     "text": [
      "                               Height     Weight\n",
      "Sport                                           \n",
      "Rhythmic Gymnastics        167.795122  48.760976\n",
      "Synchronized Swimming      168.489988  55.856302\n",
      "Gymnastics                 162.875641  56.913675\n",
      "Trampolining               166.563758  59.322148\n",
      "Figure Skating             168.148810  59.543651\n",
      "Diving                     166.662196  60.577000\n",
      "Triathlon                  173.640684  61.817490\n",
      "Short Track Speed Skating  170.108199  64.310484\n",
      "Table Tennis               171.253773  64.915036\n",
      "Ski Jumping                176.489837  65.079014\n",
      "Boxing                     172.788475  65.243842\n",
      "Cross Country Skiing       173.261314  65.879496\n",
      "Lacrosse                   174.000000  66.500000\n",
      "Biathlon                   174.052004  66.631419\n",
      "Nordic Combined            176.519700  66.905722\n",
      "Freestyle Skiing           170.940854  67.026835\n",
      "Softball                   169.428571  67.471655\n",
      "Equestrianism              174.397101  67.803975\n",
      "Taekwondo                  176.750000  68.088087\n",
      "Badminton                  174.220264  68.171439\n",
      "Hockey                     173.387899  69.164869\n",
      "Athletics                  176.259580  69.254974\n",
      "Snowboarding               173.043290  69.527056\n",
      "Archery                    173.250531  70.010616\n",
      "Speed Skating              174.096935  70.034620\n",
      "Cycling                    176.162425  70.068679\n",
      "Modern Pentathlon          178.101507  70.279540\n",
      "Football                   175.387467  70.449139\n",
      "Swimming                   178.590072  70.588104\n",
      "Tennis                     178.915837  70.802291\n",
      "Golf                       174.046296  71.194444\n",
      "Fencing                    177.298318  71.387538\n",
      "Alpine Skiing              173.517666  72.084937\n",
      "Curling                    174.168293  72.131707\n",
      "Shooting                   173.526784  74.025551\n",
      "Skeleton                   176.224138  74.166667\n",
      "Art Competitions           172.821429  74.607143\n",
      "Wrestling                  172.389440  75.508578\n",
      "Sailing                    178.263763  75.972062\n",
      "Canoeing                   178.552072  76.492072\n",
      "Motorboating               181.000000  77.000000\n",
      "Luge                       176.655047  77.282498\n",
      "Rugby                      173.666667  77.533333\n",
      "Judo                       174.157210  78.784131\n",
      "Volleyball                 186.978944  78.900214\n",
      "Rugby Sevens               175.363636  79.006734\n",
      "Beach Volleyball           186.202602  79.089219\n",
      "Weightlifting              167.822726  79.547651\n",
      "Rowing                     184.262638  80.168142\n",
      "Ice Hockey                 178.923127  80.837737\n",
      "Handball                   183.411094  81.497151\n",
      "Water Polo                 185.028267  84.566446\n",
      "Baseball                   182.599291  85.718085\n",
      "Basketball                 191.208980  85.782585\n",
      "Bobsleigh                  181.604261  89.153445\n",
      "Tug-Of-War                 182.727273  91.636364\n",
      "Gymnastics on average has the shortest athletes, while basketball has the tallest\n"
     ]
    }
   ],
   "source": [
    "print(result.sort_values(by='Weight'))\n",
    "print('Rhythmic gymnastics on average has the lightest athletes, while tug-of-war has the heaviest')"
   ]
  },
  {
   "cell_type": "markdown",
   "id": "573b1039",
   "metadata": {},
   "source": [
    "### Q.11\n",
    "How many different \"Event\" (individual Olympic competition name) mention the word \"Men\"? the word \"Women\"? neither \"Men\" nor \"Women\"?"
   ]
  },
  {
   "cell_type": "code",
   "execution_count": 116,
   "id": "11adf424",
   "metadata": {},
   "outputs": [
    {
     "name": "stdout",
     "output_type": "stream",
     "text": [
      "463 different events mention the word \"men\"\n",
      "211 different events mention the word \"women\"\n",
      "302 different events mention neither the word \"men\" nor the word \"women\"\n"
     ]
    }
   ],
   "source": [
    "unique_events= df['Event'].unique()\n",
    "events_men=0\n",
    "for n in unique_events:\n",
    "    if (\" Men\" in n)==True:\n",
    "       events_men= events_men+1\n",
    "print(f'{events_men} different events mention the word \"men\"')\n",
    "\n",
    "events_women=0\n",
    "for n in unique_events:\n",
    "    if (\"Women\" in n)==True:\n",
    "       events_women= events_women+1\n",
    "print(f'{events_women} different events mention the word \"women\"')\n",
    "\n",
    "events_neither=0\n",
    "for n in unique_events:\n",
    "    if (\" Men\" in n)==False&(\"Women\" in n)==False:\n",
    "       events_neither= events_neither+1\n",
    "print(f'{events_neither} different events mention neither the word \"men\" nor the word \"women\"')\n"
   ]
  },
  {
   "cell_type": "markdown",
   "id": "dc58ed6a",
   "metadata": {},
   "source": [
    "### Q.12"
   ]
  },
  {
   "cell_type": "markdown",
   "id": "aa5a7b60",
   "metadata": {},
   "source": [
    "**1.** Select all rows in the DataFrame `df` which correspond to a summer olmypics game. Assign the result to a variable named `summer`."
   ]
  },
  {
   "cell_type": "code",
   "execution_count": 118,
   "id": "e1b1aee2",
   "metadata": {},
   "outputs": [],
   "source": [
    "summer = df.loc[df.Season=='Summer']"
   ]
  },
  {
   "cell_type": "markdown",
   "id": "2c7095df",
   "metadata": {},
   "source": [
    "**2.** Create 4 new columns on the DataFrame `summer`: \"Gold\", \"Silver\", \"Bronze\", \"Any_Medal\", which record for each row (athelet-event) if the athelet has won a gold medal, silver medal, bronze medal, or any medal (with boolean variable `True`/`False`).\n",
    "\n",
    "For example, if these columns are correctly created,\n",
    "- `summer.loc[0,'Any_Medal']` should return `False`. (The athelete A Dijiang hasn't won any medal for Men's Basketball of the 1992 Summer Olympics).\n",
    "- `summer.loc[3,'Gold']` should return `True`. (The athelete Edgar Lindenau Aabye has won a gold medal for Men's Tug-Of-War of the 1900 Summer Olympics)."
   ]
  },
  {
   "cell_type": "code",
   "execution_count": 132,
   "id": "cacbadfe",
   "metadata": {},
   "outputs": [
    {
     "name": "stderr",
     "output_type": "stream",
     "text": [
      "C:\\Users\\user\\AppData\\Local\\Temp\\ipykernel_15196\\1657091419.py:6: SettingWithCopyWarning: \n",
      "A value is trying to be set on a copy of a slice from a DataFrame.\n",
      "Try using .loc[row_indexer,col_indexer] = value instead\n",
      "\n",
      "See the caveats in the documentation: https://pandas.pydata.org/pandas-docs/stable/user_guide/indexing.html#returning-a-view-versus-a-copy\n",
      "  summer['Gold']=summer['Medal'].apply(gold)\n",
      "C:\\Users\\user\\AppData\\Local\\Temp\\ipykernel_15196\\1657091419.py:12: SettingWithCopyWarning: \n",
      "A value is trying to be set on a copy of a slice from a DataFrame.\n",
      "Try using .loc[row_indexer,col_indexer] = value instead\n",
      "\n",
      "See the caveats in the documentation: https://pandas.pydata.org/pandas-docs/stable/user_guide/indexing.html#returning-a-view-versus-a-copy\n",
      "  summer['Silver']=summer['Medal'].apply(silver)\n",
      "C:\\Users\\user\\AppData\\Local\\Temp\\ipykernel_15196\\1657091419.py:18: SettingWithCopyWarning: \n",
      "A value is trying to be set on a copy of a slice from a DataFrame.\n",
      "Try using .loc[row_indexer,col_indexer] = value instead\n",
      "\n",
      "See the caveats in the documentation: https://pandas.pydata.org/pandas-docs/stable/user_guide/indexing.html#returning-a-view-versus-a-copy\n",
      "  summer['Bronze']=summer['Medal'].apply(bronze)\n",
      "C:\\Users\\user\\AppData\\Local\\Temp\\ipykernel_15196\\1657091419.py:24: SettingWithCopyWarning: \n",
      "A value is trying to be set on a copy of a slice from a DataFrame.\n",
      "Try using .loc[row_indexer,col_indexer] = value instead\n",
      "\n",
      "See the caveats in the documentation: https://pandas.pydata.org/pandas-docs/stable/user_guide/indexing.html#returning-a-view-versus-a-copy\n",
      "  summer['Any_Medal']=summer['Medal'].apply(any_medal)\n"
     ]
    },
    {
     "data": {
      "text/html": [
       "<div>\n",
       "<style scoped>\n",
       "    .dataframe tbody tr th:only-of-type {\n",
       "        vertical-align: middle;\n",
       "    }\n",
       "\n",
       "    .dataframe tbody tr th {\n",
       "        vertical-align: top;\n",
       "    }\n",
       "\n",
       "    .dataframe thead th {\n",
       "        text-align: right;\n",
       "    }\n",
       "</style>\n",
       "<table border=\"1\" class=\"dataframe\">\n",
       "  <thead>\n",
       "    <tr style=\"text-align: right;\">\n",
       "      <th></th>\n",
       "      <th>ID</th>\n",
       "      <th>Name</th>\n",
       "      <th>Sex</th>\n",
       "      <th>Age</th>\n",
       "      <th>Height</th>\n",
       "      <th>Weight</th>\n",
       "      <th>Team</th>\n",
       "      <th>NOC</th>\n",
       "      <th>Games</th>\n",
       "      <th>Year</th>\n",
       "      <th>Season</th>\n",
       "      <th>City</th>\n",
       "      <th>Sport</th>\n",
       "      <th>Event</th>\n",
       "      <th>Medal</th>\n",
       "      <th>Gold</th>\n",
       "      <th>Silver</th>\n",
       "      <th>Bronze</th>\n",
       "      <th>Any_Medal</th>\n",
       "    </tr>\n",
       "  </thead>\n",
       "  <tbody>\n",
       "    <tr>\n",
       "      <th>0</th>\n",
       "      <td>1</td>\n",
       "      <td>A Dijiang</td>\n",
       "      <td>M</td>\n",
       "      <td>24.0</td>\n",
       "      <td>180.0</td>\n",
       "      <td>80.0</td>\n",
       "      <td>China</td>\n",
       "      <td>CHN</td>\n",
       "      <td>1992 Summer</td>\n",
       "      <td>1992</td>\n",
       "      <td>Summer</td>\n",
       "      <td>Barcelona</td>\n",
       "      <td>Basketball</td>\n",
       "      <td>Basketball Men's Basketball</td>\n",
       "      <td>NaN</td>\n",
       "      <td>False</td>\n",
       "      <td>False</td>\n",
       "      <td>False</td>\n",
       "      <td>False</td>\n",
       "    </tr>\n",
       "    <tr>\n",
       "      <th>1</th>\n",
       "      <td>2</td>\n",
       "      <td>A Lamusi</td>\n",
       "      <td>M</td>\n",
       "      <td>23.0</td>\n",
       "      <td>170.0</td>\n",
       "      <td>60.0</td>\n",
       "      <td>China</td>\n",
       "      <td>CHN</td>\n",
       "      <td>2012 Summer</td>\n",
       "      <td>2012</td>\n",
       "      <td>Summer</td>\n",
       "      <td>London</td>\n",
       "      <td>Judo</td>\n",
       "      <td>Judo Men's Extra-Lightweight</td>\n",
       "      <td>NaN</td>\n",
       "      <td>False</td>\n",
       "      <td>False</td>\n",
       "      <td>False</td>\n",
       "      <td>False</td>\n",
       "    </tr>\n",
       "    <tr>\n",
       "      <th>2</th>\n",
       "      <td>3</td>\n",
       "      <td>Gunnar Nielsen Aaby</td>\n",
       "      <td>M</td>\n",
       "      <td>24.0</td>\n",
       "      <td>NaN</td>\n",
       "      <td>NaN</td>\n",
       "      <td>Denmark</td>\n",
       "      <td>DEN</td>\n",
       "      <td>1920 Summer</td>\n",
       "      <td>1920</td>\n",
       "      <td>Summer</td>\n",
       "      <td>Antwerpen</td>\n",
       "      <td>Football</td>\n",
       "      <td>Football Men's Football</td>\n",
       "      <td>NaN</td>\n",
       "      <td>False</td>\n",
       "      <td>False</td>\n",
       "      <td>False</td>\n",
       "      <td>False</td>\n",
       "    </tr>\n",
       "    <tr>\n",
       "      <th>3</th>\n",
       "      <td>4</td>\n",
       "      <td>Edgar Lindenau Aabye</td>\n",
       "      <td>M</td>\n",
       "      <td>34.0</td>\n",
       "      <td>NaN</td>\n",
       "      <td>NaN</td>\n",
       "      <td>Denmark</td>\n",
       "      <td>DEN</td>\n",
       "      <td>1900 Summer</td>\n",
       "      <td>1900</td>\n",
       "      <td>Summer</td>\n",
       "      <td>Paris</td>\n",
       "      <td>Tug-Of-War</td>\n",
       "      <td>Tug-Of-War Men's Tug-Of-War</td>\n",
       "      <td>Gold</td>\n",
       "      <td>True</td>\n",
       "      <td>False</td>\n",
       "      <td>False</td>\n",
       "      <td>True</td>\n",
       "    </tr>\n",
       "    <tr>\n",
       "      <th>26</th>\n",
       "      <td>8</td>\n",
       "      <td>Cornelia \"Cor\" Aalten (-Strannood)</td>\n",
       "      <td>F</td>\n",
       "      <td>18.0</td>\n",
       "      <td>168.0</td>\n",
       "      <td>NaN</td>\n",
       "      <td>Netherlands</td>\n",
       "      <td>NED</td>\n",
       "      <td>1932 Summer</td>\n",
       "      <td>1932</td>\n",
       "      <td>Summer</td>\n",
       "      <td>Los Angeles</td>\n",
       "      <td>Athletics</td>\n",
       "      <td>Athletics Women's 100 metres</td>\n",
       "      <td>NaN</td>\n",
       "      <td>False</td>\n",
       "      <td>False</td>\n",
       "      <td>False</td>\n",
       "      <td>False</td>\n",
       "    </tr>\n",
       "  </tbody>\n",
       "</table>\n",
       "</div>"
      ],
      "text/plain": [
       "    ID                                Name Sex   Age  Height  Weight  \\\n",
       "0    1                           A Dijiang   M  24.0   180.0    80.0   \n",
       "1    2                            A Lamusi   M  23.0   170.0    60.0   \n",
       "2    3                 Gunnar Nielsen Aaby   M  24.0     NaN     NaN   \n",
       "3    4                Edgar Lindenau Aabye   M  34.0     NaN     NaN   \n",
       "26   8  Cornelia \"Cor\" Aalten (-Strannood)   F  18.0   168.0     NaN   \n",
       "\n",
       "           Team  NOC        Games  Year  Season         City       Sport  \\\n",
       "0         China  CHN  1992 Summer  1992  Summer    Barcelona  Basketball   \n",
       "1         China  CHN  2012 Summer  2012  Summer       London        Judo   \n",
       "2       Denmark  DEN  1920 Summer  1920  Summer    Antwerpen    Football   \n",
       "3       Denmark  DEN  1900 Summer  1900  Summer        Paris  Tug-Of-War   \n",
       "26  Netherlands  NED  1932 Summer  1932  Summer  Los Angeles   Athletics   \n",
       "\n",
       "                           Event Medal   Gold  Silver  Bronze  Any_Medal  \n",
       "0    Basketball Men's Basketball   NaN  False   False   False      False  \n",
       "1   Judo Men's Extra-Lightweight   NaN  False   False   False      False  \n",
       "2        Football Men's Football   NaN  False   False   False      False  \n",
       "3    Tug-Of-War Men's Tug-Of-War  Gold   True   False   False       True  \n",
       "26  Athletics Women's 100 metres   NaN  False   False   False      False  "
      ]
     },
     "execution_count": 132,
     "metadata": {},
     "output_type": "execute_result"
    }
   ],
   "source": [
    "def gold(x):\n",
    "    if x=='Gold': \n",
    "        return True\n",
    "    else:\n",
    "        return False\n",
    "summer['Gold']=summer['Medal'].apply(gold)\n",
    "def silver(x):\n",
    "    if x=='Silver': \n",
    "        return True\n",
    "    else:\n",
    "        return False\n",
    "summer['Silver']=summer['Medal'].apply(silver)\n",
    "def bronze(x):\n",
    "    if x=='Bronze': \n",
    "        return True\n",
    "    else:\n",
    "        return False\n",
    "summer['Bronze']=summer['Medal'].apply(bronze)\n",
    "def any_medal(x):\n",
    "    if x in ['Gold', 'Silver', 'Bronze'] : \n",
    "        return True\n",
    "    else:\n",
    "        return False\n",
    "summer['Any_Medal']=summer['Medal'].apply(any_medal)\n",
    "summer.head()"
   ]
  },
  {
   "cell_type": "code",
   "execution_count": 133,
   "id": "fcc706a1",
   "metadata": {},
   "outputs": [
    {
     "data": {
      "text/plain": [
       "False"
      ]
     },
     "execution_count": 133,
     "metadata": {},
     "output_type": "execute_result"
    }
   ],
   "source": [
    "#check-up\n",
    "summer.loc[0,'Any_Medal']"
   ]
  },
  {
   "cell_type": "code",
   "execution_count": 134,
   "id": "fcffbc59",
   "metadata": {},
   "outputs": [
    {
     "data": {
      "text/plain": [
       "True"
      ]
     },
     "execution_count": 134,
     "metadata": {},
     "output_type": "execute_result"
    }
   ],
   "source": [
    "#check-up\n",
    "summer.loc[3,'Gold']"
   ]
  },
  {
   "cell_type": "markdown",
   "id": "b51ef846",
   "metadata": {},
   "source": [
    "**3.** Create a new DataFrame named `team_medals_by_year` which record the medal table for each country for each Summer Olympics.  \n",
    "\n",
    "The 5 last rows should look like this:\n",
    "\n",
    "| Team | Year | Gold | Silver | Bronze | Total |\n",
    "| --- | --- | --- | --- | --- | --- |\n",
    "|Zimbabwe | 2000 | 0 | 0 | 0 | 0 |\n",
    "|Zimbabwe | 2004 | 1 | 1 | 1 | 3 |\n",
    "|Zimbabwe | 2008 | 1 | 3 | 0 | 4 |\n",
    "|Zimbabwe | 2012 | 0 | 0 | 0 | 0 |\n",
    "|Zimbabwe | 2016 | 0 | 0 | 0 | 0 |"
   ]
  },
  {
   "cell_type": "markdown",
   "id": "e78dd0e5",
   "metadata": {},
   "source": [
    "> **Hint**: You may need `.groupby(['Team','Year']).sum().reset_index()`."
   ]
  },
  {
   "cell_type": "code",
   "execution_count": 136,
   "id": "0ed5eede",
   "metadata": {},
   "outputs": [
    {
     "name": "stdout",
     "output_type": "stream",
     "text": [
      "             Team  Year       ID    Age  Height  Weight  Gold  Silver  Bronze  \\\n",
      "0     Afghanistan  1936  1080368  364.0     0.0     0.0     0       0       0   \n",
      "1     Afghanistan  1948  1747096    0.0     0.0     0.0     0       0       0   \n",
      "2     Afghanistan  1956  1066944    0.0     0.0     0.0     0       0       0   \n",
      "3     Afghanistan  1960  1422051  373.0  2731.0  1111.0     0       0       0   \n",
      "4     Afghanistan  1964   559889  154.0   322.0   257.0     0       0       0   \n",
      "...           ...   ...      ...    ...     ...     ...   ...     ...     ...   \n",
      "2764     Zimbabwe  2000  1612153  649.0  4474.0  1777.0     0       0       0   \n",
      "2765     Zimbabwe  2004   621920  351.0  2489.0   987.0     1       1       1   \n",
      "2766     Zimbabwe  2008   715219  417.0  2407.0   892.0     1       3       0   \n",
      "2767     Zimbabwe  2012   524881  246.0  1570.0   587.0     0       0       0   \n",
      "2768     Zimbabwe  2016  2084831  852.0  5203.0  1928.0     0       0       0   \n",
      "\n",
      "      Any_Medal  \n",
      "0             0  \n",
      "1             0  \n",
      "2             0  \n",
      "3             0  \n",
      "4             0  \n",
      "...         ...  \n",
      "2764          0  \n",
      "2765          3  \n",
      "2766          4  \n",
      "2767          0  \n",
      "2768          0  \n",
      "\n",
      "[2769 rows x 10 columns]\n"
     ]
    }
   ],
   "source": [
    "team_medals_by_year = summer.groupby(['Team','Year']).sum().reset_index()\n",
    "print(team_medals_by_year)"
   ]
  },
  {
   "cell_type": "markdown",
   "id": "6991ac84",
   "metadata": {},
   "source": [
    "> **Note**: For simplicity, we will count the number of athletes who have received medals. Indeed, for a 12-member basketball team, 12 athletes receive a gold medal, but on the real medal table this gold medal is counted only once. We won't worry about this problem here..."
   ]
  },
  {
   "cell_type": "markdown",
   "id": "35ec4666",
   "metadata": {},
   "source": [
    "**4.** How many teams have never won a single medal at the Summer Olympic Games? "
   ]
  },
  {
   "cell_type": "code",
   "execution_count": 142,
   "id": "c621d13c",
   "metadata": {},
   "outputs": [
    {
     "name": "stdout",
     "output_type": "stream",
     "text": [
      "                        Team        ID     Age   Height   Weight    Year  \\\n",
      "1                    Albania   4583008  1631.0   8635.0   3879.0  126092   \n",
      "3             American Samoa   2597544   936.0   3511.0   2027.0   70032   \n",
      "4                    Andorra   3328267  1448.0   8131.0   3210.0  105912   \n",
      "5                     Angola  15151663  6651.0  43660.0  18165.0  534100   \n",
      "6                    Antigua   8662879  3066.0  20139.0   7676.0  264892   \n",
      "..                       ...       ...     ...      ...      ...     ...   \n",
      "183              Timor-Leste    562771   204.0   1272.0    255.0   16088   \n",
      "189             Turkmenistan   3396638  1289.0   9182.0   3797.0  108356   \n",
      "197                  Vanuatu   2291202   842.0   5248.0   1875.0   70004   \n",
      "200  Virgin Islands, British   2760894  1092.0   6602.0   2877.0   83776   \n",
      "202                    Yemen   1564989  1037.0   6223.0   2338.0   95888   \n",
      "\n",
      "     Gold  Silver  Bronze  Any_Medal  \n",
      "1       0       0       0          0  \n",
      "3       0       0       0          0  \n",
      "4       0       0       0          0  \n",
      "5       0       0       0          0  \n",
      "6       0       0       0          0  \n",
      "..    ...     ...     ...        ...  \n",
      "183     0       0       0          0  \n",
      "189     0       0       0          0  \n",
      "197     0       0       0          0  \n",
      "200     0       0       0          0  \n",
      "202     0       0       0          0  \n",
      "\n",
      "[71 rows x 10 columns]\n",
      "71 teams have never won a single medal at the Summer Olympic Games\n"
     ]
    }
   ],
   "source": [
    "team_medals = summer.groupby(['Team']).sum().reset_index()\n",
    "losers=team_medals[team_medals.Any_Medal==0]\n",
    "print(losers)\n",
    "losers.shape\n",
    "print('71 teams have never won a single medal at the Summer Olympic Games')"
   ]
  },
  {
   "cell_type": "markdown",
   "id": "6995d330",
   "metadata": {},
   "source": [
    "**5.** Create a DataFrame named `team_mean_medals` which record for each contry the average number of gold, silver, bronze, total medals for their participations in the Summer Olympic games. Sort the DataFrame by the average number of gold medals in descending order.\n",
    "\n",
    "The first rows should look like this:\n",
    "\n",
    "| Team | Gold | Silver | Bronze | Total |\n",
    "| --- |  --- | --- | --- | --- |\n",
    "|USA | 88.285714 | 47.607143 | 42.750000 | 178.642857 |\n",
    "|Russia | 61.000000 | 48.700000 | 49.700000 | 159.400000 |\n",
    "|Germany | 41.346154 | 37.961538 | 40.923077 | 120.230769 |\n",
    "|UK | 21.931034 | 25.137931 | 21.379310 | 68.448276 |\n",
    "|Italy | 17.862069 | 16.344828 | 15.655172 | 49.862069 |"
   ]
  },
  {
   "cell_type": "code",
   "execution_count": 151,
   "id": "1fdcdcf4",
   "metadata": {},
   "outputs": [
    {
     "name": "stdout",
     "output_type": "stream",
     "text": [
      "              Team       Gold     Silver     Bronze   Any_Medal\n",
      "191            USA  88.285714  47.607143  42.750000  178.642857\n",
      "151         Russia  61.000000  48.700000  49.700000  159.400000\n",
      "67         Germany  41.346154  37.961538  40.923077  120.230769\n",
      "190             UK  21.931034  25.137931  21.379310   68.448276\n",
      "87           Italy  17.862069  16.344828  15.655172   49.862069\n",
      "..             ...        ...        ...        ...         ...\n",
      "101        Lesotho   0.000000   0.000000   0.000000    0.000000\n",
      "1          Albania   0.000000   0.000000   0.000000    0.000000\n",
      "103          Libya   0.000000   0.000000   0.000000    0.000000\n",
      "104  Liechtenstein   0.000000   0.000000   0.000000    0.000000\n",
      "102        Liberia   0.000000   0.000000   0.000000    0.000000\n",
      "\n",
      "[205 rows x 5 columns]\n"
     ]
    }
   ],
   "source": [
    "team_mean_medals = team_medals_by_year.groupby(['Team']).mean().reset_index().sort_values(by=['Gold'], ascending=False)\n",
    "print(team_mean_medals[['Team','Gold','Silver','Bronze','Any_Medal']])"
   ]
  }
 ],
 "metadata": {
  "kernelspec": {
   "display_name": "Python 3 (ipykernel)",
   "language": "python",
   "name": "python3"
  },
  "language_info": {
   "codemirror_mode": {
    "name": "ipython",
    "version": 3
   },
   "file_extension": ".py",
   "mimetype": "text/x-python",
   "name": "python",
   "nbconvert_exporter": "python",
   "pygments_lexer": "ipython3",
   "version": "3.9.12"
  }
 },
 "nbformat": 4,
 "nbformat_minor": 5
}
